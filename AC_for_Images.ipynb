{
  "nbformat": 4,
  "nbformat_minor": 0,
  "metadata": {
    "colab": {
      "name": "AC for Images.ipynb",
      "provenance": [],
      "collapsed_sections": [],
      "authorship_tag": "ABX9TyPkLt1eJ4D0AJhJxhabmcDZ"
    },
    "kernelspec": {
      "name": "python3",
      "display_name": "Python 3"
    },
    "language_info": {
      "name": "python"
    }
  },
  "cells": [
    {
      "cell_type": "code",
      "execution_count": null,
      "metadata": {
        "id": "339Yni5Tvoem"
      },
      "outputs": [],
      "source": [
        "import numpy as np\n",
        "import pandas as pd\n",
        "import matplotlib.pyplot as plt"
      ]
    },
    {
      "cell_type": "code",
      "source": [
        "from tensorflow.keras.datasets import mnist"
      ],
      "metadata": {
        "id": "hdkuaDl8vsJW"
      },
      "execution_count": null,
      "outputs": []
    },
    {
      "cell_type": "code",
      "source": [
        "(X_train, y_train), (X_test, y_test) = mnist.load_data()"
      ],
      "metadata": {
        "colab": {
          "base_uri": "https://localhost:8080/"
        },
        "id": "E-EJwuR9vvta",
        "outputId": "968181cd-d74d-4d81-a958-20e9418e994f"
      },
      "execution_count": null,
      "outputs": [
        {
          "output_type": "stream",
          "name": "stdout",
          "text": [
            "Downloading data from https://storage.googleapis.com/tensorflow/tf-keras-datasets/mnist.npz\n",
            "11493376/11490434 [==============================] - 0s 0us/step\n",
            "11501568/11490434 [==============================] - 0s 0us/step\n"
          ]
        }
      ]
    },
    {
      "cell_type": "code",
      "source": [
        "plt.imshow(X_train[0])"
      ],
      "metadata": {
        "colab": {
          "base_uri": "https://localhost:8080/",
          "height": 283
        },
        "id": "IrLTuwxpv2cn",
        "outputId": "4346dc5d-86a5-4222-d2f7-2bbee9f647f3"
      },
      "execution_count": null,
      "outputs": [
        {
          "output_type": "execute_result",
          "data": {
            "text/plain": [
              "<matplotlib.image.AxesImage at 0x7f140c588dd0>"
            ]
          },
          "metadata": {},
          "execution_count": 6
        },
        {
          "output_type": "display_data",
          "data": {
            "text/plain": [
              "<Figure size 432x288 with 1 Axes>"
            ],
            "image/png": "[encoded data removed]"
          },
          "metadata": {
            "needs_background": "light"
          }
        }
      ]
    },
    {
      "cell_type": "code",
      "source": [
        "X_train = X_train /255"
      ],
      "metadata": {
        "id": "KFmrdyw2wBgQ"
      },
      "execution_count": null,
      "outputs": []
    },
    {
      "cell_type": "code",
      "source": [
        "X_test = X_test/255"
      ],
      "metadata": {
        "id": "7_UgJnE5wFg9"
      },
      "execution_count": null,
      "outputs": []
    },
    {
      "cell_type": "code",
      "source": [
        "from tensorflow.keras.models import Sequential\n",
        "from tensorflow.keras.layers import Dense, Flatten, Reshape\n",
        "from tensorflow.keras.optimizers import SGD"
      ],
      "metadata": {
        "id": "g2dYkNa-wIQo"
      },
      "execution_count": null,
      "outputs": []
    },
    {
      "cell_type": "code",
      "source": [
        "28*28"
      ],
      "metadata": {
        "colab": {
          "base_uri": "https://localhost:8080/"
        },
        "id": "eAKKYvn7wUBm",
        "outputId": "4c25a2fc-c60d-428d-8898-e3990db32808"
      },
      "execution_count": null,
      "outputs": [
        {
          "output_type": "execute_result",
          "data": {
            "text/plain": [
              "784"
            ]
          },
          "metadata": {},
          "execution_count": 10
        }
      ]
    },
    {
      "cell_type": "code",
      "source": [
        "784/2"
      ],
      "metadata": {
        "colab": {
          "base_uri": "https://localhost:8080/"
        },
        "id": "zSZU_ERbwXcX",
        "outputId": "08b0cb5a-a7e6-47bf-de36-c6b4602ad33f"
      },
      "execution_count": null,
      "outputs": [
        {
          "output_type": "execute_result",
          "data": {
            "text/plain": [
              "392.0"
            ]
          },
          "metadata": {},
          "execution_count": 11
        }
      ]
    },
    {
      "cell_type": "code",
      "source": [
        "encoder = Sequential()\n",
        "encoder.add(Flatten(input_shape=[28,28]))\n",
        "encoder.add(Dense(400, activation = 'relu'))\n",
        "encoder.add(Dense(200, activation = 'relu'))\n",
        "encoder.add(Dense(100, activation = 'relu'))\n",
        "encoder.add(Dense(50, activation = 'relu'))\n",
        "encoder.add(Dense(25, activation = 'relu'))"
      ],
      "metadata": {
        "id": "TwI330jOwZQD"
      },
      "execution_count": null,
      "outputs": []
    },
    {
      "cell_type": "code",
      "source": [
        "25/784"
      ],
      "metadata": {
        "colab": {
          "base_uri": "https://localhost:8080/"
        },
        "id": "eAvaGbgPw32m",
        "outputId": "6700dcec-e310-471d-f74d-11d8d548436f"
      },
      "execution_count": null,
      "outputs": [
        {
          "output_type": "execute_result",
          "data": {
            "text/plain": [
              "0.03188775510204082"
            ]
          },
          "metadata": {},
          "execution_count": 13
        }
      ]
    },
    {
      "cell_type": "code",
      "source": [
        "decoder = Sequential()\n",
        "decoder.add(Dense(50, activation = 'relu', input_shape=[25]))\n",
        "decoder.add(Dense(100, activation = 'relu'))\n",
        "decoder.add(Dense(200, activation = 'relu'))\n",
        "decoder.add(Dense(400, activation = 'relu'))\n",
        "decoder.add(Dense(784, activation = 'sigmoid')) # sigmoid since basically binary crossentropy loss\n",
        "decoder.add(Reshape([28,28]))\n"
      ],
      "metadata": {
        "id": "MKWD689qw5JP"
      },
      "execution_count": null,
      "outputs": []
    },
    {
      "cell_type": "code",
      "source": [
        "autoencoder = Sequential([encoder, decoder])"
      ],
      "metadata": {
        "id": "t9QwA053xioV"
      },
      "execution_count": null,
      "outputs": []
    },
    {
      "cell_type": "code",
      "source": [
        "autoencoder.compile(loss='binary_crossentropy', \n",
        "                    optimizer =SGD(lr=1.5), \n",
        "                    metrics =['accuracy'])"
      ],
      "metadata": {
        "colab": {
          "base_uri": "https://localhost:8080/"
        },
        "id": "kYqWWxwaxn1c",
        "outputId": "4f5b8dd0-3a8d-407f-b0be-9fb653696281"
      },
      "execution_count": null,
      "outputs": [
        {
          "output_type": "stream",
          "name": "stderr",
          "text": [
            "/usr/local/lib/python3.7/dist-packages/keras/optimizer_v2/gradient_descent.py:102: UserWarning: The `lr` argument is deprecated, use `learning_rate` instead.\n",
            "  super(SGD, self).__init__(name, **kwargs)\n"
          ]
        }
      ]
    },
    {
      "cell_type": "code",
      "source": [
        "autoencoder.fit(X_train,X_train, epochs = 5, validation_data =[X_test, X_test])"
      ],
      "metadata": {
        "colab": {
          "base_uri": "https://localhost:8080/"
        },
        "id": "OUYuT5gtyAcH",
        "outputId": "a83e3e2f-e412-4199-91f7-5906ad73db05"
      },
      "execution_count": null,
      "outputs": [
        {
          "output_type": "stream",
          "name": "stdout",
          "text": [
            "Epoch 1/5\n",
            "1875/1875 [==============================] - 23s 12ms/step - loss: 0.2480 - accuracy: 0.0904 - val_loss: 0.2035 - val_accuracy: 0.1394\n",
            "Epoch 2/5\n",
            "1875/1875 [==============================] - 22s 12ms/step - loss: 0.1786 - accuracy: 0.1697 - val_loss: 0.1603 - val_accuracy: 0.1947\n",
            "Epoch 3/5\n",
            "1875/1875 [==============================] - 24s 13ms/step - loss: 0.1532 - accuracy: 0.2049 - val_loss: 0.1476 - val_accuracy: 0.2179\n",
            "Epoch 4/5\n",
            "1875/1875 [==============================] - 23s 12ms/step - loss: 0.1451 - accuracy: 0.2193 - val_loss: 0.1404 - val_accuracy: 0.2262\n",
            "Epoch 5/5\n",
            "1875/1875 [==============================] - 25s 13ms/step - loss: 0.1403 - accuracy: 0.2280 - val_loss: 0.1377 - val_accuracy: 0.2356\n"
          ]
        },
        {
          "output_type": "execute_result",
          "data": {
            "text/plain": [
              "<keras.callbacks.History at 0x7f140827d5d0>"
            ]
          },
          "metadata": {},
          "execution_count": 17
        }
      ]
    },
    {
      "cell_type": "code",
      "source": [
        "passed_images = autoencoder.predict(X_test[:10])"
      ],
      "metadata": {
        "id": "DCP_T4HSyRfr"
      },
      "execution_count": null,
      "outputs": []
    },
    {
      "cell_type": "code",
      "source": [
        "n= 3\n",
        "\n",
        "print(\"original image\")\n",
        "plt.imshow(X_test[n])\n",
        "plt.show()\n",
        "print(\"attempted reconstruction(after autoencoder\")\n",
        "plt.imshow(passed_images[n])"
      ],
      "metadata": {
        "colab": {
          "base_uri": "https://localhost:8080/",
          "height": 567
        },
        "id": "dD68lAo8y9xP",
        "outputId": "0fe71408-b330-4465-b093-44e1ad747ece"
      },
      "execution_count": null,
      "outputs": [
        {
          "output_type": "stream",
          "name": "stdout",
          "text": [
            "original image\n"
          ]
        },
        {
          "output_type": "display_data",
          "data": {
            "text/plain": [
              "<Figure size 432x288 with 1 Axes>"
            ],
            "image/png": "[encoded data removed]"
          },
          "metadata": {
            "needs_background": "light"
          }
        },
        {
          "output_type": "stream",
          "name": "stdout",
          "text": [
            "attempted reconstruction(after autoencoder\n"
          ]
        },
        {
          "output_type": "execute_result",
          "data": {
            "text/plain": [
              "<matplotlib.image.AxesImage at 0x7f1407dcd710>"
            ]
          },
          "metadata": {},
          "execution_count": 23
        },
        {
          "output_type": "display_data",
          "data": {
            "text/plain": [
              "<Figure size 432x288 with 1 Axes>"
            ],
            "image/png": "[encoded data removed]"
          },
          "metadata": {
            "needs_background": "light"
          }
        }
      ]
    },
    {
      "cell_type": "code",
      "source": [
        "from tensorflow.keras.layers import GaussianNoise"
      ],
      "metadata": {
        "id": "GrjcOcxQzQzr"
      },
      "execution_count": null,
      "outputs": []
    },
    {
      "cell_type": "code",
      "source": [
        "sample = GaussianNoise(0.2)"
      ],
      "metadata": {
        "id": "7BskPGQRzqsY"
      },
      "execution_count": null,
      "outputs": []
    },
    {
      "cell_type": "code",
      "source": [
        "noisey = sample(X_test[:10], training = True)"
      ],
      "metadata": {
        "id": "H816wsVpzuOa"
      },
      "execution_count": null,
      "outputs": []
    },
    {
      "cell_type": "code",
      "source": [
        "n = 0\n",
        "\n",
        "print(\"original\")\n",
        "plt.imshow(X_test[n])\n",
        "plt.show()\n",
        "print(\"noise version\")\n",
        "plt.imshow(noisey[n])\n",
        "plt.show()"
      ],
      "metadata": {
        "colab": {
          "base_uri": "https://localhost:8080/",
          "height": 549
        },
        "id": "JwFVqZHqzy6g",
        "outputId": "859fa3fc-1d27-4e2b-9a25-79e7f6171597"
      },
      "execution_count": null,
      "outputs": [
        {
          "output_type": "stream",
          "name": "stdout",
          "text": [
            "original\n"
          ]
        },
        {
          "output_type": "display_data",
          "data": {
            "text/plain": [
              "<Figure size 432x288 with 1 Axes>"
            ],
            "image/png": "[encoded data removed]"
          },
          "metadata": {
            "needs_background": "light"
          }
        },
        {
          "output_type": "stream",
          "name": "stdout",
          "text": [
            "noise version\n"
          ]
        },
        {
          "output_type": "display_data",
          "data": {
            "text/plain": [
              "<Figure size 432x288 with 1 Axes>"
            ],
            "image/png": "[encoded data removed]"
          },
          "metadata": {
            "needs_background": "light"
          }
        }
      ]
    },
    {
      "cell_type": "code",
      "source": [
        "import tensorflow as tf"
      ],
      "metadata": {
        "id": "ui5mEB7O0BJz"
      },
      "execution_count": null,
      "outputs": []
    },
    {
      "cell_type": "code",
      "source": [
        "tf.random.set_seed(101)\n",
        "np.random.seed(101)\n",
        "\n",
        "encoder = Sequential()\n",
        "encoder.add(Flatten(input_shape=[28,28]))\n",
        "\n",
        "encoder.add(GaussianNoise(0.2))\n",
        "\n",
        "encoder.add(Dense(400, activation = 'relu'))\n",
        "encoder.add(Dense(200, activation = 'relu'))\n",
        "encoder.add(Dense(100, activation = 'relu'))\n",
        "encoder.add(Dense(50, activation = 'relu'))\n",
        "encoder.add(Dense(25, activation = 'relu'))"
      ],
      "metadata": {
        "id": "J-j0ofA50Dnf"
      },
      "execution_count": null,
      "outputs": []
    },
    {
      "cell_type": "code",
      "source": [
        "decoder = Sequential()\n",
        "decoder.add(Dense(50, activation = 'relu', input_shape=[25]))\n",
        "decoder.add(Dense(100, activation = 'relu'))\n",
        "decoder.add(Dense(200, activation = 'relu'))\n",
        "decoder.add(Dense(400, activation = 'relu'))\n",
        "decoder.add(Dense(784, activation = 'sigmoid')) # sigmoid since basically binary crossentropy loss\n",
        "decoder.add(Reshape([28,28]))\n"
      ],
      "metadata": {
        "id": "hFWYBRdl0TXo"
      },
      "execution_count": null,
      "outputs": []
    },
    {
      "cell_type": "code",
      "source": [
        "noise_remover = Sequential([encoder, decoder])"
      ],
      "metadata": {
        "id": "T71esWpO0WaC"
      },
      "execution_count": null,
      "outputs": []
    },
    {
      "cell_type": "code",
      "source": [
        "noise_remover.compile(loss = 'binary_crossentropy', \n",
        "                      optimizer = 'adam', \n",
        "                      metrics = ['accuracy'])"
      ],
      "metadata": {
        "id": "PzE1hXF00blD"
      },
      "execution_count": null,
      "outputs": []
    },
    {
      "cell_type": "code",
      "source": [
        "noise_remover.fit(X_train, X_train, epochs = 8)"
      ],
      "metadata": {
        "colab": {
          "base_uri": "https://localhost:8080/"
        },
        "id": "0jKoJaRZ0ket",
        "outputId": "18431338-18e9-487e-e247-84c4f44c50d0"
      },
      "execution_count": null,
      "outputs": [
        {
          "output_type": "stream",
          "name": "stdout",
          "text": [
            "Epoch 1/8\n",
            "1875/1875 [==============================] - 26s 13ms/step - loss: 0.1695 - accuracy: 0.1824\n",
            "Epoch 2/8\n",
            "1875/1875 [==============================] - 25s 13ms/step - loss: 0.1305 - accuracy: 0.2329\n",
            "Epoch 3/8\n",
            "1875/1875 [==============================] - 27s 14ms/step - loss: 0.1214 - accuracy: 0.2452\n",
            "Epoch 4/8\n",
            "1875/1875 [==============================] - 26s 14ms/step - loss: 0.1169 - accuracy: 0.2528\n",
            "Epoch 5/8\n",
            "1875/1875 [==============================] - 25s 13ms/step - loss: 0.1131 - accuracy: 0.2585\n",
            "Epoch 6/8\n",
            "1875/1875 [==============================] - 24s 13ms/step - loss: 0.1104 - accuracy: 0.2631\n",
            "Epoch 7/8\n",
            "1875/1875 [==============================] - 24s 13ms/step - loss: 0.1084 - accuracy: 0.2669\n",
            "Epoch 8/8\n",
            "1875/1875 [==============================] - 24s 13ms/step - loss: 0.1068 - accuracy: 0.2694\n"
          ]
        },
        {
          "output_type": "execute_result",
          "data": {
            "text/plain": [
              "<keras.callbacks.History at 0x7f14078ca250>"
            ]
          },
          "metadata": {},
          "execution_count": 35
        }
      ]
    },
    {
      "cell_type": "code",
      "source": [
        "ten_noisey_images = sample(X_test[:10], training = True)"
      ],
      "metadata": {
        "id": "Z7-eBI6_0oje"
      },
      "execution_count": null,
      "outputs": []
    },
    {
      "cell_type": "code",
      "source": [
        "denoised = noise_remover(ten_noisey_images)"
      ],
      "metadata": {
        "id": "SCaIEfNk1pG6"
      },
      "execution_count": null,
      "outputs": []
    },
    {
      "cell_type": "code",
      "source": [
        "n= 3\n",
        "\n",
        "print('Original Image')\n",
        "plt.imshow(X_test[n])\n",
        "plt.show()\n",
        "print(\"Noise added Image\")\n",
        "plt.imshow(ten_noisey_images[n])\n",
        "plt.show()\n",
        "print(\"After Noise removed from Autoencoder\")\n",
        "plt.imshow(denoised[n])\n",
        "plt.show()"
      ],
      "metadata": {
        "colab": {
          "base_uri": "https://localhost:8080/",
          "height": 815
        },
        "id": "WFwC8nue1vl4",
        "outputId": "d0536527-e6b7-405a-d40a-a3217ee50cf4"
      },
      "execution_count": null,
      "outputs": [
        {
          "output_type": "stream",
          "name": "stdout",
          "text": [
            "Original Image\n"
          ]
        },
        {
          "output_type": "display_data",
          "data": {
            "text/plain": [
              "<Figure size 432x288 with 1 Axes>"
            ],
            "image/png": "[encoded data removed]"
          },
          "metadata": {
            "needs_background": "light"
          }
        },
        {
          "output_type": "stream",
          "name": "stdout",
          "text": [
            "Noise added Image\n"
          ]
        },
        {
          "output_type": "display_data",
          "data": {
            "text/plain": [
              "<Figure size 432x288 with 1 Axes>"
            ],
            "image/png": "[encoded data removed]"
          },
          "metadata": {
            "needs_background": "light"
          }
        },
        {
          "output_type": "stream",
          "name": "stdout",
          "text": [
            "After Noise removed from Autoencoder\n"
          ]
        },
        {
          "output_type": "display_data",
          "data": {
            "text/plain": [
              "<Figure size 432x288 with 1 Axes>"
            ],
            "image/png": "[encoded data removed]"
          },
          "metadata": {
            "needs_background": "light"
          }
        }
      ]
    },
    {
      "cell_type": "code",
      "source": [
        ""
      ],
      "metadata": {
        "id": "CXqCPKU72HTm"
      },
      "execution_count": null,
      "outputs": []
    }
  ]
}