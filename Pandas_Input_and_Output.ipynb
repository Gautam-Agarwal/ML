{
  "nbformat": 4,
  "nbformat_minor": 0,
  "metadata": {
    "colab": {
      "name": "Pandas-Input-and-Output.ipynb",
      "provenance": [],
      "collapsed_sections": [],
      "authorship_tag": "ABX9TyObFLSr83gt2T8xJGUOIqKu"
    },
    "kernelspec": {
      "name": "python3",
      "display_name": "Python 3"
    },
    "language_info": {
      "name": "python"
    }
  },
  "cells": [
    {
      "cell_type": "code",
      "execution_count": null,
      "metadata": {
        "id": "vKhqSs6PR7My"
      },
      "outputs": [],
      "source": [
        "import numpy as np \n",
        "import pandas as pd"
      ]
    },
    {
      "cell_type": "code",
      "source": [
        "df = pd.read_csv('example.csv')"
      ],
      "metadata": {
        "id": "hXGc_ycjSDdE"
      },
      "execution_count": null,
      "outputs": []
    },
    {
      "cell_type": "code",
      "source": [
        "pwd"
      ],
      "metadata": {
        "colab": {
          "base_uri": "https://localhost:8080/",
          "height": 35
        },
        "id": "dax1hkrBSurT",
        "outputId": "2c0c3d7f-d90b-48e8-da65-586d78cd6a1e"
      },
      "execution_count": null,
      "outputs": [
        {
          "output_type": "execute_result",
          "data": {
            "text/plain": [
              "'/content'"
            ],
            "application/vnd.google.colaboratory.intrinsic+json": {
              "type": "string"
            }
          },
          "metadata": {},
          "execution_count": 6
        }
      ]
    },
    {
      "cell_type": "code",
      "source": [
        "ls"
      ],
      "metadata": {
        "colab": {
          "base_uri": "https://localhost:8080/"
        },
        "id": "09Iu6hiiSwHY",
        "outputId": "0f3a04ad-e290-4ce4-f632-c9c48417c874"
      },
      "execution_count": null,
      "outputs": [
        {
          "output_type": "stream",
          "name": "stdout",
          "text": [
            "advanced_housing.csv            Frozen_Dessert_Production.csv\n",
            "african_econ_crises.csv         german_credit_data.csv\n",
            "bank-additional-full.csv        heart.csv\n",
            "bank-additional-names.txt       iris.csv\n",
            "bank.csv                        kc_house_data.csv\n",
            "boxplot.png                     LCDataDictionary.xlsx\n",
            "california_housing_sklearn.csv  lending_club_info.csv\n",
            "cancer_classification.csv       lending_club_loan_two.csv\n",
            "diamonds.csv                    melb_data.csv\n",
            "ECOMPCTNSA.csv                  RSCCASN.csv\n",
            "energydata_complete.csv         \u001b[0m\u001b[01;34msample_data\u001b[0m/\n",
            "example.csv                     stroke_data.csv\n",
            "Excel_Sample.xlsx               stroke_features.png\n",
            "fake_reg.csv                    UK_foods.csv\n",
            "flights.csv                     Universities.csv\n"
          ]
        }
      ]
    },
    {
      "cell_type": "code",
      "source": [
        "df.to_csv('output.csv', index = True)"
      ],
      "metadata": {
        "id": "05arDtKoTCSI"
      },
      "execution_count": null,
      "outputs": []
    },
    {
      "cell_type": "code",
      "source": [
        "pd.read_csv('output.csv')"
      ],
      "metadata": {
        "colab": {
          "base_uri": "https://localhost:8080/",
          "height": 175
        },
        "id": "hIlx84ErTqa_",
        "outputId": "96c2ddd1-5c0f-4671-a389-d24ff72e1bd6"
      },
      "execution_count": null,
      "outputs": [
        {
          "output_type": "execute_result",
          "data": {
            "text/plain": [
              "   Unnamed: 0   a   b   c   d\n",
              "0           0   0   1   2   3\n",
              "1           1   4   5   6   7\n",
              "2           2   8   9  10  11\n",
              "3           3  12  13  14  15"
            ],
            "text/html": [
              "\n",
              "  <div id=\"df-51f0c876-553d-4b93-bc0d-722f82b59fbc\">\n",
              "    <div class=\"colab-df-container\">\n",
              "      <div>\n",
              "<style scoped>\n",
              "    .dataframe tbody tr th:only-of-type {\n",
              "        vertical-align: middle;\n",
              "    }\n",
              "\n",
              "    .dataframe tbody tr th {\n",
              "        vertical-align: top;\n",
              "    }\n",
              "\n",
              "    .dataframe thead th {\n",
              "        text-align: right;\n",
              "    }\n",
              "</style>\n",
              "<table border=\"1\" class=\"dataframe\">\n",
              "  <thead>\n",
              "    <tr style=\"text-align: right;\">\n",
              "      <th></th>\n",
              "      <th>Unnamed: 0</th>\n",
              "      <th>a</th>\n",
              "      <th>b</th>\n",
              "      <th>c</th>\n",
              "      <th>d</th>\n",
              "    </tr>\n",
              "  </thead>\n",
              "  <tbody>\n",
              "    <tr>\n",
              "      <th>0</th>\n",
              "      <td>0</td>\n",
              "      <td>0</td>\n",
              "      <td>1</td>\n",
              "      <td>2</td>\n",
              "      <td>3</td>\n",
              "    </tr>\n",
              "    <tr>\n",
              "      <th>1</th>\n",
              "      <td>1</td>\n",
              "      <td>4</td>\n",
              "      <td>5</td>\n",
              "      <td>6</td>\n",
              "      <td>7</td>\n",
              "    </tr>\n",
              "    <tr>\n",
              "      <th>2</th>\n",
              "      <td>2</td>\n",
              "      <td>8</td>\n",
              "      <td>9</td>\n",
              "      <td>10</td>\n",
              "      <td>11</td>\n",
              "    </tr>\n",
              "    <tr>\n",
              "      <th>3</th>\n",
              "      <td>3</td>\n",
              "      <td>12</td>\n",
              "      <td>13</td>\n",
              "      <td>14</td>\n",
              "      <td>15</td>\n",
              "    </tr>\n",
              "  </tbody>\n",
              "</table>\n",
              "</div>\n",
              "      <button class=\"colab-df-convert\" onclick=\"convertToInteractive('df-51f0c876-553d-4b93-bc0d-722f82b59fbc')\"\n",
              "              title=\"Convert this dataframe to an interactive table.\"\n",
              "              style=\"display:none;\">\n",
              "        \n",
              "  <svg xmlns=\"http://www.w3.org/2000/svg\" height=\"24px\"viewBox=\"0 0 24 24\"\n",
              "       width=\"24px\">\n",
              "    <path d=\"M0 0h24v24H0V0z\" fill=\"none\"/>\n",
              "    <path d=\"M18.56 5.44l.94 2.06.94-2.06 2.06-.94-2.06-.94-.94-2.06-.94 2.06-2.06.94zm-11 1L8.5 8.5l.94-2.06 2.06-.94-2.06-.94L8.5 2.5l-.94 2.06-2.06.94zm10 10l.94 2.06.94-2.06 2.06-.94-2.06-.94-.94-2.06-.94 2.06-2.06.94z\"/><path d=\"M17.41 7.96l-1.37-1.37c-.4-.4-.92-.59-1.43-.59-.52 0-1.04.2-1.43.59L10.3 9.45l-7.72 7.72c-.78.78-.78 2.05 0 2.83L4 21.41c.39.39.9.59 1.41.59.51 0 1.02-.2 1.41-.59l7.78-7.78 2.81-2.81c.8-.78.8-2.07 0-2.86zM5.41 20L4 18.59l7.72-7.72 1.47 1.35L5.41 20z\"/>\n",
              "  </svg>\n",
              "      </button>\n",
              "      \n",
              "  <style>\n",
              "    .colab-df-container {\n",
              "      display:flex;\n",
              "      flex-wrap:wrap;\n",
              "      gap: 12px;\n",
              "    }\n",
              "\n",
              "    .colab-df-convert {\n",
              "      background-color: #E8F0FE;\n",
              "      border: none;\n",
              "      border-radius: 50%;\n",
              "      cursor: pointer;\n",
              "      display: none;\n",
              "      fill: #1967D2;\n",
              "      height: 32px;\n",
              "      padding: 0 0 0 0;\n",
              "      width: 32px;\n",
              "    }\n",
              "\n",
              "    .colab-df-convert:hover {\n",
              "      background-color: #E2EBFA;\n",
              "      box-shadow: 0px 1px 2px rgba(60, 64, 67, 0.3), 0px 1px 3px 1px rgba(60, 64, 67, 0.15);\n",
              "      fill: #174EA6;\n",
              "    }\n",
              "\n",
              "    [theme=dark] .colab-df-convert {\n",
              "      background-color: #3B4455;\n",
              "      fill: #D2E3FC;\n",
              "    }\n",
              "\n",
              "    [theme=dark] .colab-df-convert:hover {\n",
              "      background-color: #434B5C;\n",
              "      box-shadow: 0px 1px 3px 1px rgba(0, 0, 0, 0.15);\n",
              "      filter: drop-shadow(0px 1px 2px rgba(0, 0, 0, 0.3));\n",
              "      fill: #FFFFFF;\n",
              "    }\n",
              "  </style>\n",
              "\n",
              "      <script>\n",
              "        const buttonEl =\n",
              "          document.querySelector('#df-51f0c876-553d-4b93-bc0d-722f82b59fbc button.colab-df-convert');\n",
              "        buttonEl.style.display =\n",
              "          google.colab.kernel.accessAllowed ? 'block' : 'none';\n",
              "\n",
              "        async function convertToInteractive(key) {\n",
              "          const element = document.querySelector('#df-51f0c876-553d-4b93-bc0d-722f82b59fbc');\n",
              "          const dataTable =\n",
              "            await google.colab.kernel.invokeFunction('convertToInteractive',\n",
              "                                                     [key], {});\n",
              "          if (!dataTable) return;\n",
              "\n",
              "          const docLinkHtml = 'Like what you see? Visit the ' +\n",
              "            '<a target=\"_blank\" href=https://colab.research.google.com/notebooks/data_table.ipynb>data table notebook</a>'\n",
              "            + ' to learn more about interactive tables.';\n",
              "          element.innerHTML = '';\n",
              "          dataTable['output_type'] = 'display_data';\n",
              "          await google.colab.output.renderOutput(dataTable, element);\n",
              "          const docLink = document.createElement('div');\n",
              "          docLink.innerHTML = docLinkHtml;\n",
              "          element.appendChild(docLink);\n",
              "        }\n",
              "      </script>\n",
              "    </div>\n",
              "  </div>\n",
              "  "
            ]
          },
          "metadata": {},
          "execution_count": 9
        }
      ]
    },
    {
      "cell_type": "code",
      "source": [
        "table = pd.read_html('https://www.fdic.gov/resources/resolutions/bank-failures/failed-bank-list/')"
      ],
      "metadata": {
        "id": "5ut56wSTTu4l"
      },
      "execution_count": null,
      "outputs": []
    },
    {
      "cell_type": "code",
      "source": [
        "type(table)"
      ],
      "metadata": {
        "colab": {
          "base_uri": "https://localhost:8080/"
        },
        "id": "F3TRTQgrVChp",
        "outputId": "7324c238-1357-415f-e117-9e9cfa53a53a"
      },
      "execution_count": null,
      "outputs": [
        {
          "output_type": "execute_result",
          "data": {
            "text/plain": [
              "list"
            ]
          },
          "metadata": {},
          "execution_count": 14
        }
      ]
    },
    {
      "cell_type": "code",
      "source": [
        "table[0]"
      ],
      "metadata": {
        "colab": {
          "base_uri": "https://localhost:8080/",
          "height": 693
        },
        "id": "UmI6wX7rVcPZ",
        "outputId": "6ef97055-b233-4dcf-e83f-6aca95ead683"
      },
      "execution_count": null,
      "outputs": [
        {
          "output_type": "execute_result",
          "data": {
            "text/plain": [
              "                         Bank NameBank           CityCity StateSt  CertCert  \\\n",
              "0                    Almena State Bank             Almena      KS     15426   \n",
              "1           First City Bank of Florida  Fort Walton Beach      FL     16748   \n",
              "2                 The First State Bank      Barboursville      WV     14361   \n",
              "3                   Ericson State Bank            Ericson      NE     18265   \n",
              "4     City National Bank of New Jersey             Newark      NJ     21111   \n",
              "..                                 ...                ...     ...       ...   \n",
              "558                 Superior Bank, FSB           Hinsdale      IL     32646   \n",
              "559                Malta National Bank              Malta      OH      6629   \n",
              "560    First Alliance Bank & Trust Co.         Manchester      NH     34264   \n",
              "561  National State Bank of Metropolis         Metropolis      IL      3815   \n",
              "562                   Bank of Honolulu           Honolulu      HI     21029   \n",
              "\n",
              "                 Acquiring InstitutionAI Closing DateClosing  FundFund  \n",
              "0                            Equity Bank    October 23, 2020     10538  \n",
              "1              United Fidelity Bank, fsb    October 16, 2020     10537  \n",
              "2                         MVB Bank, Inc.       April 3, 2020     10536  \n",
              "3             Farmers and Merchants Bank   February 14, 2020     10535  \n",
              "4                        Industrial Bank    November 1, 2019     10534  \n",
              "..                                   ...                 ...       ...  \n",
              "558                Superior Federal, FSB       July 27, 2001      6004  \n",
              "559                    North Valley Bank         May 3, 2001      4648  \n",
              "560  Southern New Hampshire Bank & Trust    February 2, 2001      4647  \n",
              "561              Banterra Bank of Marion   December 14, 2000      4646  \n",
              "562                   Bank of the Orient    October 13, 2000      4645  \n",
              "\n",
              "[563 rows x 7 columns]"
            ],
            "text/html": [
              "\n",
              "  <div id=\"df-11bd9847-552e-4da4-8451-247906c66307\">\n",
              "    <div class=\"colab-df-container\">\n",
              "      <div>\n",
              "<style scoped>\n",
              "    .dataframe tbody tr th:only-of-type {\n",
              "        vertical-align: middle;\n",
              "    }\n",
              "\n",
              "    .dataframe tbody tr th {\n",
              "        vertical-align: top;\n",
              "    }\n",
              "\n",
              "    .dataframe thead th {\n",
              "        text-align: right;\n",
              "    }\n",
              "</style>\n",
              "<table border=\"1\" class=\"dataframe\">\n",
              "  <thead>\n",
              "    <tr style=\"text-align: right;\">\n",
              "      <th></th>\n",
              "      <th>Bank NameBank</th>\n",
              "      <th>CityCity</th>\n",
              "      <th>StateSt</th>\n",
              "      <th>CertCert</th>\n",
              "      <th>Acquiring InstitutionAI</th>\n",
              "      <th>Closing DateClosing</th>\n",
              "      <th>FundFund</th>\n",
              "    </tr>\n",
              "  </thead>\n",
              "  <tbody>\n",
              "    <tr>\n",
              "      <th>0</th>\n",
              "      <td>Almena State Bank</td>\n",
              "      <td>Almena</td>\n",
              "      <td>KS</td>\n",
              "      <td>15426</td>\n",
              "      <td>Equity Bank</td>\n",
              "      <td>October 23, 2020</td>\n",
              "      <td>10538</td>\n",
              "    </tr>\n",
              "    <tr>\n",
              "      <th>1</th>\n",
              "      <td>First City Bank of Florida</td>\n",
              "      <td>Fort Walton Beach</td>\n",
              "      <td>FL</td>\n",
              "      <td>16748</td>\n",
              "      <td>United Fidelity Bank, fsb</td>\n",
              "      <td>October 16, 2020</td>\n",
              "      <td>10537</td>\n",
              "    </tr>\n",
              "    <tr>\n",
              "      <th>2</th>\n",
              "      <td>The First State Bank</td>\n",
              "      <td>Barboursville</td>\n",
              "      <td>WV</td>\n",
              "      <td>14361</td>\n",
              "      <td>MVB Bank, Inc.</td>\n",
              "      <td>April 3, 2020</td>\n",
              "      <td>10536</td>\n",
              "    </tr>\n",
              "    <tr>\n",
              "      <th>3</th>\n",
              "      <td>Ericson State Bank</td>\n",
              "      <td>Ericson</td>\n",
              "      <td>NE</td>\n",
              "      <td>18265</td>\n",
              "      <td>Farmers and Merchants Bank</td>\n",
              "      <td>February 14, 2020</td>\n",
              "      <td>10535</td>\n",
              "    </tr>\n",
              "    <tr>\n",
              "      <th>4</th>\n",
              "      <td>City National Bank of New Jersey</td>\n",
              "      <td>Newark</td>\n",
              "      <td>NJ</td>\n",
              "      <td>21111</td>\n",
              "      <td>Industrial Bank</td>\n",
              "      <td>November 1, 2019</td>\n",
              "      <td>10534</td>\n",
              "    </tr>\n",
              "    <tr>\n",
              "      <th>...</th>\n",
              "      <td>...</td>\n",
              "      <td>...</td>\n",
              "      <td>...</td>\n",
              "      <td>...</td>\n",
              "      <td>...</td>\n",
              "      <td>...</td>\n",
              "      <td>...</td>\n",
              "    </tr>\n",
              "    <tr>\n",
              "      <th>558</th>\n",
              "      <td>Superior Bank, FSB</td>\n",
              "      <td>Hinsdale</td>\n",
              "      <td>IL</td>\n",
              "      <td>32646</td>\n",
              "      <td>Superior Federal, FSB</td>\n",
              "      <td>July 27, 2001</td>\n",
              "      <td>6004</td>\n",
              "    </tr>\n",
              "    <tr>\n",
              "      <th>559</th>\n",
              "      <td>Malta National Bank</td>\n",
              "      <td>Malta</td>\n",
              "      <td>OH</td>\n",
              "      <td>6629</td>\n",
              "      <td>North Valley Bank</td>\n",
              "      <td>May 3, 2001</td>\n",
              "      <td>4648</td>\n",
              "    </tr>\n",
              "    <tr>\n",
              "      <th>560</th>\n",
              "      <td>First Alliance Bank &amp; Trust Co.</td>\n",
              "      <td>Manchester</td>\n",
              "      <td>NH</td>\n",
              "      <td>34264</td>\n",
              "      <td>Southern New Hampshire Bank &amp; Trust</td>\n",
              "      <td>February 2, 2001</td>\n",
              "      <td>4647</td>\n",
              "    </tr>\n",
              "    <tr>\n",
              "      <th>561</th>\n",
              "      <td>National State Bank of Metropolis</td>\n",
              "      <td>Metropolis</td>\n",
              "      <td>IL</td>\n",
              "      <td>3815</td>\n",
              "      <td>Banterra Bank of Marion</td>\n",
              "      <td>December 14, 2000</td>\n",
              "      <td>4646</td>\n",
              "    </tr>\n",
              "    <tr>\n",
              "      <th>562</th>\n",
              "      <td>Bank of Honolulu</td>\n",
              "      <td>Honolulu</td>\n",
              "      <td>HI</td>\n",
              "      <td>21029</td>\n",
              "      <td>Bank of the Orient</td>\n",
              "      <td>October 13, 2000</td>\n",
              "      <td>4645</td>\n",
              "    </tr>\n",
              "  </tbody>\n",
              "</table>\n",
              "<p>563 rows × 7 columns</p>\n",
              "</div>\n",
              "      <button class=\"colab-df-convert\" onclick=\"convertToInteractive('df-11bd9847-552e-4da4-8451-247906c66307')\"\n",
              "              title=\"Convert this dataframe to an interactive table.\"\n",
              "              style=\"display:none;\">\n",
              "        \n",
              "  <svg xmlns=\"http://www.w3.org/2000/svg\" height=\"24px\"viewBox=\"0 0 24 24\"\n",
              "       width=\"24px\">\n",
              "    <path d=\"M0 0h24v24H0V0z\" fill=\"none\"/>\n",
              "    <path d=\"M18.56 5.44l.94 2.06.94-2.06 2.06-.94-2.06-.94-.94-2.06-.94 2.06-2.06.94zm-11 1L8.5 8.5l.94-2.06 2.06-.94-2.06-.94L8.5 2.5l-.94 2.06-2.06.94zm10 10l.94 2.06.94-2.06 2.06-.94-2.06-.94-.94-2.06-.94 2.06-2.06.94z\"/><path d=\"M17.41 7.96l-1.37-1.37c-.4-.4-.92-.59-1.43-.59-.52 0-1.04.2-1.43.59L10.3 9.45l-7.72 7.72c-.78.78-.78 2.05 0 2.83L4 21.41c.39.39.9.59 1.41.59.51 0 1.02-.2 1.41-.59l7.78-7.78 2.81-2.81c.8-.78.8-2.07 0-2.86zM5.41 20L4 18.59l7.72-7.72 1.47 1.35L5.41 20z\"/>\n",
              "  </svg>\n",
              "      </button>\n",
              "      \n",
              "  <style>\n",
              "    .colab-df-container {\n",
              "      display:flex;\n",
              "      flex-wrap:wrap;\n",
              "      gap: 12px;\n",
              "    }\n",
              "\n",
              "    .colab-df-convert {\n",
              "      background-color: #E8F0FE;\n",
              "      border: none;\n",
              "      border-radius: 50%;\n",
              "      cursor: pointer;\n",
              "      display: none;\n",
              "      fill: #1967D2;\n",
              "      height: 32px;\n",
              "      padding: 0 0 0 0;\n",
              "      width: 32px;\n",
              "    }\n",
              "\n",
              "    .colab-df-convert:hover {\n",
              "      background-color: #E2EBFA;\n",
              "      box-shadow: 0px 1px 2px rgba(60, 64, 67, 0.3), 0px 1px 3px 1px rgba(60, 64, 67, 0.15);\n",
              "      fill: #174EA6;\n",
              "    }\n",
              "\n",
              "    [theme=dark] .colab-df-convert {\n",
              "      background-color: #3B4455;\n",
              "      fill: #D2E3FC;\n",
              "    }\n",
              "\n",
              "    [theme=dark] .colab-df-convert:hover {\n",
              "      background-color: #434B5C;\n",
              "      box-shadow: 0px 1px 3px 1px rgba(0, 0, 0, 0.15);\n",
              "      filter: drop-shadow(0px 1px 2px rgba(0, 0, 0, 0.3));\n",
              "      fill: #FFFFFF;\n",
              "    }\n",
              "  </style>\n",
              "\n",
              "      <script>\n",
              "        const buttonEl =\n",
              "          document.querySelector('#df-11bd9847-552e-4da4-8451-247906c66307 button.colab-df-convert');\n",
              "        buttonEl.style.display =\n",
              "          google.colab.kernel.accessAllowed ? 'block' : 'none';\n",
              "\n",
              "        async function convertToInteractive(key) {\n",
              "          const element = document.querySelector('#df-11bd9847-552e-4da4-8451-247906c66307');\n",
              "          const dataTable =\n",
              "            await google.colab.kernel.invokeFunction('convertToInteractive',\n",
              "                                                     [key], {});\n",
              "          if (!dataTable) return;\n",
              "\n",
              "          const docLinkHtml = 'Like what you see? Visit the ' +\n",
              "            '<a target=\"_blank\" href=https://colab.research.google.com/notebooks/data_table.ipynb>data table notebook</a>'\n",
              "            + ' to learn more about interactive tables.';\n",
              "          element.innerHTML = '';\n",
              "          dataTable['output_type'] = 'display_data';\n",
              "          await google.colab.output.renderOutput(dataTable, element);\n",
              "          const docLink = document.createElement('div');\n",
              "          docLink.innerHTML = docLinkHtml;\n",
              "          element.appendChild(docLink);\n",
              "        }\n",
              "      </script>\n",
              "    </div>\n",
              "  </div>\n",
              "  "
            ]
          },
          "metadata": {},
          "execution_count": 15
        }
      ]
    },
    {
      "cell_type": "code",
      "source": [
        ""
      ],
      "metadata": {
        "id": "09Gxfz3NVfPd"
      },
      "execution_count": null,
      "outputs": []
    }
  ]
}